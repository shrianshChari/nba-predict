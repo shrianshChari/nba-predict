{
 "cells": [
  {
   "cell_type": "code",
   "execution_count": 31,
   "id": "a5ca1a25-10b9-4ee2-af07-e6ccb2aa06cc",
   "metadata": {},
   "outputs": [],
   "source": [
    "from bs4 import BeautifulSoup\n",
    "import pandas as pd\n",
    "import os"
   ]
  },
  {
   "cell_type": "code",
   "execution_count": 32,
   "id": "0fe816af-ac85-4891-b284-1a5b1df12696",
   "metadata": {},
   "outputs": [],
   "source": [
    "# Takes in year and returns the last 2 digits that represent its year\n",
    "# Examples:\n",
    "# 2013 -> '13'\n",
    "# 1999 -> '99'\n",
    "# 2001 -> '01'\n",
    "def get_last_year_digits(year):\n",
    "    return str(year)[-2:]"
   ]
  },
  {
   "cell_type": "code",
   "execution_count": 33,
   "id": "842eb91b-9678-4de5-a85b-ee5d02e8c089",
   "metadata": {},
   "outputs": [],
   "source": [
    "# Create their respective folders if they're not there\n",
    "if (not os.path.isdir('html-table')):\n",
    "    os.mkdir('html-table')\n",
    "if (not os.path.isdir('csv')):\n",
    "    os.mkdir('csv')"
   ]
  },
  {
   "cell_type": "code",
   "execution_count": 34,
   "id": "9edff052-9d2c-487e-a94e-f2886a4a9f9d",
   "metadata": {},
   "outputs": [],
   "source": [
    "# Extract HTML table of data from raw files\n",
    "for year in range (1998, 2022 + 1):\n",
    "    season_year_end = get_last_year_digits(year)\n",
    "    season_year_start = get_last_year_digits(year - 1)\n",
    "    \n",
    "    team_stats_file = open(f'html-raw/{season_year_start}_{season_year_end}.html')\n",
    "    team_stats_html = BeautifulSoup(team_stats_file)\n",
    "    team_stats_table = team_stats_html.body.table\n",
    "    team_stats_table_file = open(f'html-table/{season_year_start}_{season_year_end}.html', 'w')\n",
    "    team_stats_table_file.write(str(team_stats_table))\n",
    "    team_stats_table_file.close()"
   ]
  },
  {
   "cell_type": "code",
   "execution_count": 38,
   "id": "7fc29b52-bd77-442c-be0d-a247da4d5f2a",
   "metadata": {},
   "outputs": [],
   "source": [
    "# Put the HTML table data into csv files\n",
    "for year in range(1998, 2022 + 1):\n",
    "    season_year_end = get_last_year_digits(year)\n",
    "    season_year_start = get_last_year_digits(year - 1)\n",
    "    \n",
    "    table_file = open(f'html-table/{season_year_start}_{season_year_end}.html')\n",
    "    table_html = BeautifulSoup(table_file)\n",
    "    headers = []\n",
    "    data = []\n",
    "    for th in table_html.find('tr').find_all('th')[1:15]:\n",
    "        headers.append(th.text.strip())\n",
    "    # print(headers)\n",
    "    for tr in table_html.find_all('tr')[1:]:\n",
    "        row = []\n",
    "        for td in tr.find_all('td')[1:]:\n",
    "            row.append(td.text.strip())\n",
    "        # print(row)\n",
    "        data.append(row)\n",
    "    df = pd.DataFrame(data, columns = headers)\n",
    "    df['MIN'] = df['MIN'].str.replace(',', '') # Removes the comma that would ordinarily be in these values, pandas automatically corrects the type from str to int\n",
    "    df.sort_values(by = 'WIN%', ascending = False)\n",
    "    df.to_csv(f'csv/{season_year_start}_{season_year_end}.csv')"
   ]
  },
  {
   "cell_type": "code",
   "execution_count": 39,
   "id": "5ecb74a5-b28a-4261-84ae-2e769022a8eb",
   "metadata": {},
   "outputs": [
    {
     "name": "stdout",
     "output_type": "stream",
     "text": [
      "0.2484666666666667\n"
     ]
    }
   ],
   "source": [
    "table = pd.read_csv('csv/21_22.csv', index_col=0)\n",
    "print(table['FTARate'].mean())"
   ]
  },
  {
   "cell_type": "code",
   "execution_count": null,
   "id": "916a8c86-7c26-42fc-9d0b-fc6d7ee1ed2e",
   "metadata": {},
   "outputs": [],
   "source": []
  }
 ],
 "metadata": {
  "kernelspec": {
   "display_name": "Python 3 (ipykernel)",
   "language": "python",
   "name": "python3"
  },
  "language_info": {
   "codemirror_mode": {
    "name": "ipython",
    "version": 3
   },
   "file_extension": ".py",
   "mimetype": "text/x-python",
   "name": "python",
   "nbconvert_exporter": "python",
   "pygments_lexer": "ipython3",
   "version": "3.9.12"
  }
 },
 "nbformat": 4,
 "nbformat_minor": 5
}
